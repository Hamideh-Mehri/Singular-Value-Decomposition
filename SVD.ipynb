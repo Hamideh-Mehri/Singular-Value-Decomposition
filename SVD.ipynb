{
  "nbformat": 4,
  "nbformat_minor": 0,
  "metadata": {
    "colab": {
      "name": "SVD.ipynb",
      "provenance": []
    },
    "kernelspec": {
      "name": "python3",
      "display_name": "Python 3"
    },
    "language_info": {
      "name": "python"
    }
  },
  "cells": [
    {
      "cell_type": "markdown",
      "source": [
        "## a matrix A as a transformation\n",
        "We can think of a matrix A as a transformation, that acts on a vector x by multiplication to produce a new vector Ax. "
      ],
      "metadata": {
        "id": "9Czm-1SLcz42"
      }
    },
    {
      "cell_type": "code",
      "source": [
        "import numpy as np\n",
        "import math\n",
        "import matplotlib.pyplot as plt"
      ],
      "metadata": {
        "id": "T3yFeKw8d4E0"
      },
      "execution_count": null,
      "outputs": []
    },
    {
      "cell_type": "code",
      "source": [
        "\n",
        "x=np.array([1,0]) # Original vector\n",
        "theta = 30 * math.pi / 180 # 30 degress in radian\n",
        "A = np.array([[np.cos(theta), -np.sin(theta)],[np.sin(theta), np.cos(theta)]]) # Rotation matrix for theta=30 degrees\n",
        "B = np.array([[3,0],[0,1]]) # Stretching matrix"
      ],
      "metadata": {
        "id": "N0QkLI6TdtY2"
      },
      "execution_count": null,
      "outputs": []
    },
    {
      "cell_type": "code",
      "source": [
        "x, x.reshape(1,2)"
      ],
      "metadata": {
        "colab": {
          "base_uri": "https://localhost:8080/"
        },
        "id": "ZeJVLyGQeaRN",
        "outputId": "f5694933-c38d-4e7a-920a-9a8493645be2"
      },
      "execution_count": null,
      "outputs": [
        {
          "output_type": "execute_result",
          "data": {
            "text/plain": [
              "(array([1, 0]), array([[1, 0]]))"
            ]
          },
          "metadata": {},
          "execution_count": 11
        }
      ]
    },
    {
      "cell_type": "code",
      "source": [
        "Ax = A @ x  # y1 is the rotated vector\n",
        "Bx = B @ x  # y2 is the stretched vector\n",
        "Ax, Ax.reshape(1,2)"
      ],
      "metadata": {
        "colab": {
          "base_uri": "https://localhost:8080/"
        },
        "id": "ztce6asseJns",
        "outputId": "a8c6cd5c-2f3a-448b-f51e-a465f61539ac"
      },
      "execution_count": null,
      "outputs": [
        {
          "output_type": "execute_result",
          "data": {
            "text/plain": [
              "(array([0.8660254, 0.5      ]), array([[0.8660254, 0.5      ]]))"
            ]
          },
          "metadata": {},
          "execution_count": 10
        }
      ]
    },
    {
      "cell_type": "code",
      "source": [
        "# Reshaping and storing both x and Ax in t1 to be plotted as vectors\n",
        "t1 = np.concatenate([x.reshape(1,2), Ax.reshape(1,2)])\n",
        "t1"
      ],
      "metadata": {
        "colab": {
          "base_uri": "https://localhost:8080/"
        },
        "id": "Td4R-EiUelq0",
        "outputId": "4c14fd94-0861-41ae-e682-190078c5023f"
      },
      "execution_count": null,
      "outputs": [
        {
          "output_type": "execute_result",
          "data": {
            "text/plain": [
              "array([[1.       , 0.       ],\n",
              "       [0.8660254, 0.5      ]])"
            ]
          },
          "metadata": {},
          "execution_count": 15
        }
      ]
    },
    {
      "cell_type": "code",
      "source": [
        "# Reshaping and storing both x and Bx in t2 to be plotted as vectors\n",
        "t2 = np.concatenate([x.reshape(1,2), Bx.reshape(1,2)])\n",
        "origin = [0], [0] # origin point\n",
        "origin"
      ],
      "metadata": {
        "colab": {
          "base_uri": "https://localhost:8080/"
        },
        "id": "bcGH6pCJe1j9",
        "outputId": "f12f7d81-6033-4704-9537-157776c2e272"
      },
      "execution_count": null,
      "outputs": [
        {
          "output_type": "execute_result",
          "data": {
            "text/plain": [
              "([0], [0])"
            ]
          },
          "metadata": {},
          "execution_count": 17
        }
      ]
    },
    {
      "cell_type": "markdown",
      "source": [
        "### some matplotlib"
      ],
      "metadata": {
        "id": "Vze0YEtckmvC"
      }
    },
    {
      "cell_type": "markdown",
      "source": [
        "#### Quiver Plot in Matplotlib\n",
        "Quiver plot is basically a type of 2D plot which shows vector lines as arrows-\n",
        "\n",
        "ax.quiver(x_pos, y_pos, x_dir, y_dir, color)"
      ],
      "metadata": {
        "id": "lXlQREalg4ZD"
      }
    },
    {
      "cell_type": "code",
      "source": [
        "# Creating arrow\n",
        "x_pos = 0\n",
        "y_pos = 0\n",
        "x_direct = 1\n",
        "y_direct = 1\n",
        " \n",
        "# Creating plot\n",
        "fig, ax = plt.subplots(figsize = (12, 7))\n",
        "ax.quiver(x_pos, y_pos, x_direct, y_direct)\n",
        "ax.set_title('Quiver plot with one arrow')\n",
        " \n",
        "# Show plot\n",
        "plt.show()"
      ],
      "metadata": {
        "colab": {
          "base_uri": "https://localhost:8080/",
          "height": 444
        },
        "id": "g4sMzc7Gg35l",
        "outputId": "87919ec7-b8a8-4c46-e1e3-d3b4bd86c71d"
      },
      "execution_count": null,
      "outputs": [
        {
          "output_type": "display_data",
          "data": {
            "text/plain": [
              "<Figure size 864x504 with 1 Axes>"
            ],
            "image/png": "[encoded data removed]"
          },
          "metadata": {
            "needs_background": "light"
          }
        }
      ]
    },
    {
      "cell_type": "code",
      "source": [
        "# Creating arrow\n",
        "x_pos = [0, 0]\n",
        "y_pos = [0, 0]\n",
        "x_direct = [1, 0]\n",
        "y_direct = [1, -1]\n",
        " \n",
        "# Creating plot\n",
        "fig, ax = plt.subplots(figsize = (12, 7))\n",
        "ax.quiver(x_pos, y_pos, x_direct, y_direct,\n",
        "         scale = 5)\n",
        " \n",
        "ax.axis([-1.5, 1.5, -1.5, 1.5])\n",
        " \n",
        "# show plot\n",
        "plt.show()"
      ],
      "metadata": {
        "colab": {
          "base_uri": "https://localhost:8080/",
          "height": 432
        },
        "id": "2bWSmA1phRm6",
        "outputId": "ddaa5c9f-af09-4dbb-8e5c-3a9cca3876b4"
      },
      "execution_count": null,
      "outputs": [
        {
          "output_type": "display_data",
          "data": {
            "text/plain": [
              "<Figure size 864x504 with 1 Axes>"
            ],
            "image/png": "[encoded data removed]"
          },
          "metadata": {
            "needs_background": "light"
          }
        }
      ]
    },
    {
      "cell_type": "markdown",
      "source": [
        "#### matplotlib.axes.Axes.set_aspect() Function\n",
        "* The Axes.set_aspect() function in axes module of matplotlib library is used to set the aspect of the axis scaling, i.e. the ratio of y-unit to x-unit."
      ],
      "metadata": {
        "id": "BJtfOaDwifHM"
      }
    },
    {
      "cell_type": "markdown",
      "source": [
        "#### matplotlib.pyplot.axhline() Function\n",
        "\n",
        "The axhline() function in pyplot module of matplotlib library is used to add a horizontal line across the axis.\n",
        "\n",
        "Syntax: matplotlib.pyplot.axhline(y=0, xmin=0, xmax=1, **kwargs)\n",
        "\n",
        "Parameters: This method accept the following parameters that are described below:\n",
        "\n",
        "y: This parameter is an optional and it is position in data coordinates of the horizontal line.\n",
        "\n",
        "xmin: This parameter is a scalar and optional. Its default value is 0.\n",
        "\n",
        "xmax: This parameter is a scalar and optional. Its default value is 1.\n",
        "\n",
        "Returns: This returns the following:\n",
        "\n",
        "line : This returns the line created by this function."
      ],
      "metadata": {
        "id": "wJakd-rrjoXT"
      }
    },
    {
      "cell_type": "code",
      "source": [
        "t = np.linspace(-10, 10, 100)\n",
        "sig = 1 / t\n",
        "  \n",
        "plt.axhline(y = 0, color =\"green\", linestyle =\"--\")\n",
        "plt.axhline(y = 0.5, color =\"green\", linestyle =\":\")\n",
        "plt.axhline(y = 1.0, color =\"green\", linestyle =\"--\")\n",
        "  \n",
        "plt.axvline(color =\"black\")\n",
        "  \n",
        "plt.plot(t, sig, linewidth = 2, \n",
        "         label = r\"$\\sigma(t) = \\frac{1}{x}$\")\n",
        "  \n",
        "plt.xlim(-10, 10)\n",
        "plt.xlabel(\"t\")\n",
        "plt.title(\"Graph of 1 / x\")\n",
        "plt.legend(fontsize = 14)\n",
        "  \n",
        "plt.show()"
      ],
      "metadata": {
        "colab": {
          "base_uri": "https://localhost:8080/",
          "height": 295
        },
        "id": "2aHoU8zrkDhj",
        "outputId": "57156cf5-6a17-4057-deb1-12c536299990"
      },
      "execution_count": null,
      "outputs": [
        {
          "output_type": "display_data",
          "data": {
            "text/plain": [
              "<Figure size 432x288 with 1 Axes>"
            ],
            "image/png": "[encoded data removed]"
          },
          "metadata": {
            "needs_background": "light"
          }
        }
      ]
    },
    {
      "cell_type": "markdown",
      "source": [
        "### plot transformation"
      ],
      "metadata": {
        "id": "GYgJClHok2wL"
      }
    },
    {
      "cell_type": "code",
      "source": [
        "fig, (ax1, ax2) = plt.subplots(1, 2, figsize=(10,15))\n",
        "plt.subplots_adjust(wspace=0.4)\n",
        "\n",
        "# Plotting t1\n",
        "ax1.quiver([0,0], [0,0], t1[:,0], t1[:,1], color=['b', 'g'], width=0.013, angles='xy', scale_units='xy', scale=1)\n",
        "ax1.set_xlabel('x', fontsize=14)\n",
        "ax1.set_ylabel('y', fontsize=14)\n",
        "ax1.set_xlim([-0.5,1.5])\n",
        "ax1.set_ylim([-0.5,1])\n",
        "ax1.set_aspect('equal')\n",
        "ax1.grid(True)\n",
        "ax1.set_axisbelow(True)\n",
        "ax1.set_title(\"Rotation transform\")\n",
        "ax1.axhline(y=0, color='k')\n",
        "ax1.axvline(x=0, color='k')\n",
        "ax1.text(1, 0.1, \"$\\mathbf{x}$\", fontsize=16)\n",
        "ax1.text(0.8, 0.6, \"$\\mathbf{Ax}$\", fontsize=16)\n",
        "\n",
        "# Plotting t2\n",
        "ax2.quiver([0,0], [0,0], t2[:,0], t2[:,1], color=['b', 'g'], width=0.013, angles='xy', scale_units='xy', scale=1)\n",
        "ax2.set_xlabel('x', fontsize=14)\n",
        "ax2.set_ylabel('y', fontsize=14)\n",
        "ax2.set_xlim([-0.5,3.5])\n",
        "ax2.set_ylim([-1.5,1.5])\n",
        "ax2.set_aspect('equal')\n",
        "ax2.grid(True)\n",
        "ax2.set_axisbelow(True)\n",
        "ax2.set_title(\"Stretching transform\")\n",
        "ax2.axhline(y=0, color='k')\n",
        "ax2.axvline(x=0, color='k')\n",
        "ax2.text(1, 0.2, \"$\\mathbf{x}$\", fontsize=16)\n",
        "ax2.text(3, 0.2, \"$\\mathbf{Bx}$\", fontsize=16)\n",
        "\n",
        "plt.show()"
      ],
      "metadata": {
        "colab": {
          "base_uri": "https://localhost:8080/",
          "height": 256
        },
        "id": "LQnQtsiMe6BE",
        "outputId": "7702db64-57bf-4c55-f1b1-1d80801d053f"
      },
      "execution_count": null,
      "outputs": [
        {
          "output_type": "display_data",
          "data": {
            "text/plain": [
              "<Figure size 720x1080 with 2 Axes>"
            ],
            "image/png": "[encoded data removed]"
          },
          "metadata": {
            "needs_background": "light"
          }
        }
      ]
    },
    {
      "cell_type": "markdown",
      "source": [
        "### try a different transformation matrix\n",
        "In this section, we don’t apply the transformation matrix to just one vector. Initially, we have a circle that contains all the vectors that are one unit away from the origin. we apply the matrix to all these vectors to see what happen"
      ],
      "metadata": {
        "id": "HzDEFGWAlAdJ"
      }
    },
    {
      "cell_type": "code",
      "source": [
        "# Creating the vectors for a circle and storing them in x\n",
        "xi1 = np.linspace(-1.0, 1.0, 100)\n",
        "xi2 = np.linspace(1.0, -1.0, 100)\n",
        "yi1 = np.sqrt(1 - xi1**2)\n",
        "yi2 = -np.sqrt(1 - xi2**2)\n",
        "\n",
        "xi = np.concatenate((xi1, xi2),axis=0)\n",
        "yi = np.concatenate((yi1, yi2),axis=0)\n",
        "x = np.vstack((xi, yi))"
      ],
      "metadata": {
        "id": "J6D95s0Ac0Kc"
      },
      "execution_count": null,
      "outputs": []
    },
    {
      "cell_type": "code",
      "source": [
        "x.shape"
      ],
      "metadata": {
        "colab": {
          "base_uri": "https://localhost:8080/"
        },
        "id": "-faDsxMVc0Nm",
        "outputId": "8a85dbaa-82d8-44c3-feda-7dffeea89fcc"
      },
      "execution_count": null,
      "outputs": [
        {
          "output_type": "execute_result",
          "data": {
            "text/plain": [
              "(2, 200)"
            ]
          },
          "metadata": {},
          "execution_count": 32
        }
      ]
    },
    {
      "cell_type": "code",
      "source": [
        "# draw circle\n",
        "fig, ax= plt.subplots(figsize=(6,9))\n",
        "\n",
        "plt.subplots_adjust(wspace=0.4)\n",
        "\n",
        "# Plotting x\n",
        "ax.plot(x[0,:], x[1,:], color='b')\n",
        "ax.set_aspect('equal')"
      ],
      "metadata": {
        "colab": {
          "base_uri": "https://localhost:8080/",
          "height": 383
        },
        "id": "N0k8pGnfm-v_",
        "outputId": "54fd25b1-127b-4b46-ef44-f3bf83177792"
      },
      "execution_count": null,
      "outputs": [
        {
          "output_type": "display_data",
          "data": {
            "text/plain": [
              "<Figure size 432x648 with 1 Axes>"
            ],
            "image/png": "[encoded data removed]"
          },
          "metadata": {
            "needs_background": "light"
          }
        }
      ]
    },
    {
      "cell_type": "code",
      "source": [
        "# draw circle\n",
        "fig, ax= plt.subplots(figsize=(6,9))\n",
        "\n",
        "plt.subplots_adjust(wspace=0.4)\n",
        "\n",
        "\n",
        "\n",
        "# Plotting x\n",
        "ax.plot(x[0,:], x[1,:], color='b')\n",
        "ax.set_aspect('equal')\n",
        "ax.set_xlabel('x', fontsize=14)\n",
        "ax.set_ylabel('y', fontsize=14)\n",
        "ax.set_xlim([-4,4])\n",
        "ax.set_ylim([-4,4])\n",
        "ax.grid(True)\n",
        "ax.set_axisbelow(True)\n",
        "ax.set_title(\"Original vectors\")\n",
        "ax.axhline(y=0, color='k')\n",
        "ax.axvline(x=0, color='k')"
      ],
      "metadata": {
        "colab": {
          "base_uri": "https://localhost:8080/",
          "height": 434
        },
        "id": "kdRPwBk0oJf5",
        "outputId": "51a5157f-cb04-4dec-e83f-06cd00662b5b"
      },
      "execution_count": null,
      "outputs": [
        {
          "output_type": "execute_result",
          "data": {
            "text/plain": [
              "<matplotlib.lines.Line2D at 0x7faa3cfc1e90>"
            ]
          },
          "metadata": {},
          "execution_count": 41
        },
        {
          "output_type": "display_data",
          "data": {
            "text/plain": [
              "<Figure size 432x648 with 1 Axes>"
            ],
            "image/png": "[encoded data removed]"
          },
          "metadata": {
            "needs_background": "light"
          }
        }
      ]
    },
    {
      "cell_type": "code",
      "source": [
        "A = np.array([[3, 2],\n",
        "              [0, 2]]) #transformation matrix\n",
        "\n",
        "t = A @ x  # Vectors in t are the transformed vectors of x"
      ],
      "metadata": {
        "id": "y5COH6v9oJlw"
      },
      "execution_count": null,
      "outputs": []
    },
    {
      "cell_type": "code",
      "source": [
        "fig, ax2= plt.subplots(figsize=(6,9))\n",
        "\n",
        "ax2.plot(t[0, :], t[1, :], color='b')\n",
        "\n",
        "\n",
        "ax2.set_xlabel('x', fontsize=14)\n",
        "ax2.set_ylabel('y', fontsize=14)\n",
        "ax2.set_xlim([-4,4])\n",
        "ax2.set_ylim([-4,4])\n",
        "ax2.set_aspect('equal')\n",
        "ax2.grid(True)\n",
        "ax2.set_axisbelow(True)\n",
        "ax2.set_title(\"New vectors after transformation\")\n",
        "ax2.axhline(y=0, color='k')\n",
        "ax2.axvline(x=0, color='k')\n"
      ],
      "metadata": {
        "colab": {
          "base_uri": "https://localhost:8080/",
          "height": 434
        },
        "id": "AJpijnVxpdPB",
        "outputId": "4bfaa00b-5832-40c5-de18-02451036ed03"
      },
      "execution_count": null,
      "outputs": [
        {
          "output_type": "execute_result",
          "data": {
            "text/plain": [
              "<matplotlib.lines.Line2D at 0x7faa3adced10>"
            ]
          },
          "metadata": {},
          "execution_count": 44
        },
        {
          "output_type": "display_data",
          "data": {
            "text/plain": [
              "<Figure size 432x648 with 1 Axes>"
            ],
            "image/png": "[encoded data removed]"
          },
          "metadata": {
            "needs_background": "light"
          }
        }
      ]
    }
  ]
}