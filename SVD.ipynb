{
  "cells": [
    {
      "cell_type": "markdown",
      "metadata": {
        "id": "9Czm-1SLcz42"
      },
      "source": [
        "## a matrix A as a transformation\n",
        "We can think of a matrix A as a transformation, that acts on a vector x by multiplication to produce a new vector Ax. "
      ]
    },
    {
      "cell_type": "code",
      "execution_count": 1,
      "metadata": {
        "id": "T3yFeKw8d4E0"
      },
      "outputs": [],
      "source": [
        "import numpy as np\n",
        "import math\n",
        "import matplotlib.pyplot as plt"
      ]
    },
    {
      "cell_type": "code",
      "execution_count": 2,
      "metadata": {
        "id": "N0QkLI6TdtY2"
      },
      "outputs": [],
      "source": [
        "\n",
        "x=np.array([1,0]) # Original vector\n",
        "theta = 30 * math.pi / 180 # 30 degress in radian\n",
        "# A is a Rotation matrix for theta=30 degrees\n",
        "# matrix A rotates a vector about the origin by the angle theta\n",
        "A = np.array([[np.cos(theta), -np.sin(theta)],[np.sin(theta), np.cos(theta)]]) # Rotation matrix for theta=30 degrees\n",
        "#matrix B stretches a vector along the x axis by a constant(3 in this case) but does not affect it in the y direction \n",
        "B = np.array([[3,0],[0,1]]) # Stretching matrix"
      ]
    },
    {
      "cell_type": "code",
      "execution_count": 3,
      "metadata": {
        "colab": {
          "base_uri": "https://localhost:8080/"
        },
        "id": "ZeJVLyGQeaRN",
        "outputId": "e5d8ba0a-8050-425d-e7a4-7b50b5873421"
      },
      "outputs": [
        {
          "data": {
            "text/plain": [
              "(array([1, 0]), array([[1, 0]]))"
            ]
          },
          "execution_count": 3,
          "metadata": {},
          "output_type": "execute_result"
        }
      ],
      "source": [
        "x, x.reshape(1,2)"
      ]
    },
    {
      "cell_type": "code",
      "execution_count": 4,
      "metadata": {
        "colab": {
          "base_uri": "https://localhost:8080/"
        },
        "id": "ztce6asseJns",
        "outputId": "b5e563de-68d8-4b71-c418-ee07d50a3e2e"
      },
      "outputs": [
        {
          "data": {
            "text/plain": [
              "(array([0.8660254, 0.5      ]), array([[0.8660254, 0.5      ]]))"
            ]
          },
          "execution_count": 4,
          "metadata": {},
          "output_type": "execute_result"
        }
      ],
      "source": [
        "Ax = A @ x  # y1 is the rotated vector\n",
        "Bx = B @ x  # y2 is the stretched vector\n",
        "Ax, Ax.reshape(1,2)"
      ]
    },
    {
      "cell_type": "code",
      "execution_count": 5,
      "metadata": {
        "colab": {
          "base_uri": "https://localhost:8080/"
        },
        "id": "Td4R-EiUelq0",
        "outputId": "9debb66c-7a70-4e40-a9b8-3ad4a62cf2fa"
      },
      "outputs": [
        {
          "data": {
            "text/plain": [
              "array([[1.       , 0.       ],\n",
              "       [0.8660254, 0.5      ]])"
            ]
          },
          "execution_count": 5,
          "metadata": {},
          "output_type": "execute_result"
        }
      ],
      "source": [
        "# Reshaping and storing both x and Ax in t1 to be plotted as vectors\n",
        "t1 = np.concatenate([x.reshape(1,2), Ax.reshape(1,2)])\n",
        "t1"
      ]
    },
    {
      "cell_type": "code",
      "execution_count": 6,
      "metadata": {
        "colab": {
          "base_uri": "https://localhost:8080/"
        },
        "id": "bcGH6pCJe1j9",
        "outputId": "74fc63aa-6579-42b8-aa15-ceb354e5be06"
      },
      "outputs": [
        {
          "data": {
            "text/plain": [
              "([0], [0])"
            ]
          },
          "execution_count": 6,
          "metadata": {},
          "output_type": "execute_result"
        }
      ],
      "source": [
        "# Reshaping and storing both x and Bx in t2 to be plotted as vectors\n",
        "t2 = np.concatenate([x.reshape(1,2), Bx.reshape(1,2)])\n",
        "origin = [0], [0] # origin point\n",
        "origin"
      ]
    },
    {
      "cell_type": "markdown",
      "metadata": {
        "id": "Vze0YEtckmvC"
      },
      "source": [
        "### some matplotlib"
      ]
    },
    {
      "cell_type": "markdown",
      "metadata": {
        "id": "lXlQREalg4ZD"
      },
      "source": [
        "#### Quiver Plot in Matplotlib\n",
        "Quiver plot is basically a type of 2D plot which shows vector lines as arrows-\n",
        "\n",
        "ax.quiver(x_pos, y_pos, x_dir, y_dir, color)"
      ]
    },
    {
      "cell_type": "code",
      "execution_count": 9,
      "metadata": {
        "colab": {
          "base_uri": "https://localhost:8080/",
          "height": 444
        },
        "id": "g4sMzc7Gg35l",
        "outputId": "3015a073-ea9b-456b-9e7f-3d6e15322f33"
      },
      "outputs": [
        {
          "data": {
            "image/png": "[encoded data removed]",
            "text/plain": [
              "<Figure size 864x504 with 1 Axes>"
            ]
          },
          "metadata": {
            "needs_background": "light"
          },
          "output_type": "display_data"
        }
      ],
      "source": [
        "# Creating arrow\n",
        "x_pos = 0\n",
        "y_pos = 0\n",
        "x_direct = 1\n",
        "y_direct = 1\n",
        " \n",
        "# Creating plot\n",
        "fig, ax = plt.subplots(figsize = (12, 7))\n",
        "ax.quiver(x_pos, y_pos, x_direct, y_direct)\n",
        "ax.set_title('Quiver plot with one arrow')\n",
        " \n",
        "# Show plot\n",
        "plt.show()"
      ]
    },
    {
      "cell_type": "code",
      "execution_count": 10,
      "metadata": {
        "colab": {
          "base_uri": "https://localhost:8080/",
          "height": 432
        },
        "id": "2bWSmA1phRm6",
        "outputId": "4357cfa0-33e2-4594-bd06-bc876ca7ccff"
      },
      "outputs": [
        {
          "data": {
            "image/png": "[encoded data removed]",
            "text/plain": [
              "<Figure size 864x504 with 1 Axes>"
            ]
          },
          "metadata": {
            "needs_background": "light"
          },
          "output_type": "display_data"
        }
      ],
      "source": [
        "# Creating arrow\n",
        "x_pos = [0, 0]\n",
        "y_pos = [0, 0]\n",
        "x_direct = [1, 0]\n",
        "y_direct = [1, -1]\n",
        " \n",
        "# Creating plot\n",
        "fig, ax = plt.subplots(figsize = (12, 7))\n",
        "ax.quiver(x_pos, y_pos, x_direct, y_direct,\n",
        "         scale = 5)\n",
        " \n",
        "ax.axis([-1.5, 1.5, -1.5, 1.5])\n",
        " \n",
        "# show plot\n",
        "plt.show()"
      ]
    },
    {
      "cell_type": "markdown",
      "metadata": {
        "id": "BJtfOaDwifHM"
      },
      "source": [
        "#### matplotlib.axes.Axes.set_aspect() Function\n",
        "* The Axes.set_aspect() function in axes module of matplotlib library is used to set the aspect of the axis scaling, i.e. the ratio of y-unit to x-unit."
      ]
    },
    {
      "cell_type": "markdown",
      "metadata": {
        "id": "wJakd-rrjoXT"
      },
      "source": [
        "#### matplotlib.pyplot.axhline() Function\n",
        "\n",
        "The axhline() function in pyplot module of matplotlib library is used to add a horizontal line across the axis.\n",
        "\n",
        "Syntax: matplotlib.pyplot.axhline(y=0, xmin=0, xmax=1, **kwargs)\n",
        "\n",
        "Parameters: This method accept the following parameters that are described below:\n",
        "\n",
        "y: This parameter is an optional and it is position in data coordinates of the horizontal line.\n",
        "\n",
        "xmin: This parameter is a scalar and optional. Its default value is 0.\n",
        "\n",
        "xmax: This parameter is a scalar and optional. Its default value is 1.\n",
        "\n",
        "Returns: This returns the following:\n",
        "\n",
        "line : This returns the line created by this function."
      ]
    },
    {
      "cell_type": "code",
      "execution_count": 11,
      "metadata": {
        "colab": {
          "base_uri": "https://localhost:8080/",
          "height": 295
        },
        "id": "2aHoU8zrkDhj",
        "outputId": "4588592f-985e-4656-e3fd-24355ebeca91"
      },
      "outputs": [
        {
          "data": {
            "image/png": "[encoded data removed]",
            "text/plain": [
              "<Figure size 432x288 with 1 Axes>"
            ]
          },
          "metadata": {
            "needs_background": "light"
          },
          "output_type": "display_data"
        }
      ],
      "source": [
        "t = np.linspace(-10, 10, 100)\n",
        "sig = 1 / t\n",
        "  \n",
        "plt.axhline(y = 0, color =\"green\", linestyle =\"--\")\n",
        "plt.axhline(y = 0.5, color =\"green\", linestyle =\":\")\n",
        "plt.axhline(y = 1.0, color =\"green\", linestyle =\"--\")\n",
        "  \n",
        "plt.axvline(color =\"black\")\n",
        "  \n",
        "plt.plot(t, sig, linewidth = 2, \n",
        "         label = r\"$\\sigma(t) = \\frac{1}{x}$\")\n",
        "  \n",
        "plt.xlim(-10, 10)\n",
        "plt.xlabel(\"t\")\n",
        "plt.title(\"Graph of 1 / x\")\n",
        "plt.legend(fontsize = 14)\n",
        "  \n",
        "plt.show()"
      ]
    },
    {
      "cell_type": "markdown",
      "metadata": {
        "id": "GYgJClHok2wL"
      },
      "source": [
        "### plot transformation"
      ]
    },
    {
      "cell_type": "code",
      "execution_count": 12,
      "metadata": {
        "colab": {
          "base_uri": "https://localhost:8080/",
          "height": 256
        },
        "id": "LQnQtsiMe6BE",
        "outputId": "60cdf0be-cdab-4301-82c9-209622db1772"
      },
      "outputs": [
        {
          "data": {
            "image/png": "[encoded data removed]",
            "text/plain": [
              "<Figure size 720x1080 with 2 Axes>"
            ]
          },
          "metadata": {
            "needs_background": "light"
          },
          "output_type": "display_data"
        }
      ],
      "source": [
        "fig, (ax1, ax2) = plt.subplots(1, 2, figsize=(10,15))\n",
        "plt.subplots_adjust(wspace=0.4)\n",
        "\n",
        "# Plotting t1\n",
        "ax1.quiver([0,0], [0,0], t1[:,0], t1[:,1], color=['b', 'g'], width=0.013, angles='xy', scale_units='xy', scale=1)\n",
        "ax1.set_xlabel('x', fontsize=14)\n",
        "ax1.set_ylabel('y', fontsize=14)\n",
        "ax1.set_xlim([-0.5,1.5])\n",
        "ax1.set_ylim([-0.5,1])\n",
        "ax1.set_aspect('equal')\n",
        "ax1.grid(True)\n",
        "ax1.set_axisbelow(True)\n",
        "ax1.set_title(\"Rotation transform\")\n",
        "ax1.axhline(y=0, color='k')\n",
        "ax1.axvline(x=0, color='k')\n",
        "ax1.text(1, 0.1, \"$\\mathbf{x}$\", fontsize=16)\n",
        "ax1.text(0.8, 0.6, \"$\\mathbf{Ax}$\", fontsize=16)\n",
        "\n",
        "# Plotting t2\n",
        "ax2.quiver([0,0], [0,0], t2[:,0], t2[:,1], color=['b', 'g'], width=0.013, angles='xy', scale_units='xy', scale=1)\n",
        "ax2.set_xlabel('x', fontsize=14)\n",
        "ax2.set_ylabel('y', fontsize=14)\n",
        "ax2.set_xlim([-0.5,3.5])\n",
        "ax2.set_ylim([-1.5,1.5])\n",
        "ax2.set_aspect('equal')\n",
        "ax2.grid(True)\n",
        "ax2.set_axisbelow(True)\n",
        "ax2.set_title(\"Stretching transform\")\n",
        "ax2.axhline(y=0, color='k')\n",
        "ax2.axvline(x=0, color='k')\n",
        "ax2.text(1, 0.2, \"$\\mathbf{x}$\", fontsize=16)\n",
        "ax2.text(3, 0.2, \"$\\mathbf{Bx}$\", fontsize=16)\n",
        "\n",
        "plt.show()"
      ]
    },
    {
      "cell_type": "markdown",
      "metadata": {
        "id": "HzDEFGWAlAdJ"
      },
      "source": [
        "### try a different transformation matrix\n",
        "In this section, we don’t apply the transformation matrix to just one vector. Initially, we have a circle that contains all the vectors that are one unit away from the origin. we apply the matrix to all these vectors to see what happen"
      ]
    },
    {
      "cell_type": "code",
      "execution_count": 15,
      "metadata": {
        "id": "J6D95s0Ac0Kc"
      },
      "outputs": [],
      "source": [
        "# Creating the vectors for a circle and storing them in x\n",
        "xi1 = np.linspace(-1.0, 1.0, 100)\n",
        "xi2 = np.linspace(1.0, -1.0, 100)\n",
        "yi1 = np.sqrt(1 - xi1**2)\n",
        "yi2 = -np.sqrt(1 - xi2**2)\n",
        "\n",
        "xi = np.concatenate((xi1, xi2),axis=0)\n",
        "yi = np.concatenate((yi1, yi2),axis=0)\n",
        "x = np.vstack((xi, yi))"
      ]
    },
    {
      "cell_type": "code",
      "execution_count": 16,
      "metadata": {
        "colab": {
          "base_uri": "https://localhost:8080/"
        },
        "id": "-faDsxMVc0Nm",
        "outputId": "2a054467-532b-40bc-d742-74fa489db4cd"
      },
      "outputs": [
        {
          "data": {
            "text/plain": [
              "(2, 200)"
            ]
          },
          "execution_count": 16,
          "metadata": {},
          "output_type": "execute_result"
        }
      ],
      "source": [
        "x.shape"
      ]
    },
    {
      "cell_type": "code",
      "execution_count": 17,
      "metadata": {
        "colab": {
          "base_uri": "https://localhost:8080/",
          "height": 383
        },
        "id": "N0k8pGnfm-v_",
        "outputId": "9b758302-ebad-4542-90e3-d8e9ca39f245"
      },
      "outputs": [
        {
          "data": {
            "image/png": "[encoded data removed]",
            "text/plain": [
              "<Figure size 432x648 with 1 Axes>"
            ]
          },
          "metadata": {
            "needs_background": "light"
          },
          "output_type": "display_data"
        }
      ],
      "source": [
        "# draw circle\n",
        "fig, ax= plt.subplots(figsize=(6,9))\n",
        "\n",
        "plt.subplots_adjust(wspace=0.4)\n",
        "\n",
        "# Plotting x\n",
        "ax.plot(x[0,:], x[1,:], color='b')\n",
        "ax.set_aspect('equal')"
      ]
    },
    {
      "cell_type": "code",
      "execution_count": 18,
      "metadata": {
        "id": "h8nPGr-sDLHg"
      },
      "outputs": [],
      "source": [
        "A = np.array([[3, 2],\n",
        "              [0, 2]]) #transformation matrix\n",
        "\n",
        "t = A @ x  # Vectors in t are the transformed vectors of x"
      ]
    },
    {
      "cell_type": "code",
      "execution_count": 19,
      "metadata": {
        "id": "EcHncA57DY9u"
      },
      "outputs": [],
      "source": [
        "# getting a sample vector from x\n",
        "x_sample1 = x[:, 65]\n",
        "x_sample2 = x[:, 100]\n",
        "\n",
        "t_sample1 = t[:, 65]\n",
        "t_sample2 = t[:, 100]"
      ]
    },
    {
      "cell_type": "code",
      "execution_count": 22,
      "metadata": {
        "colab": {
          "base_uri": "https://localhost:8080/",
          "height": 434
        },
        "id": "kdRPwBk0oJf5",
        "outputId": "68da51c7-a6a4-4f1f-d000-e0264cca4d53"
      },
      "outputs": [
        {
          "data": {
            "text/plain": [
              "<matplotlib.quiver.Quiver at 0x7f304004dc10>"
            ]
          },
          "execution_count": 22,
          "metadata": {},
          "output_type": "execute_result"
        },
        {
          "data": {
            "image/png": "[encoded data removed]",
            "text/plain": [
              "<Figure size 432x648 with 1 Axes>"
            ]
          },
          "metadata": {
            "needs_background": "light"
          },
          "output_type": "display_data"
        }
      ],
      "source": [
        "# draw circle\n",
        "fig, ax= plt.subplots(figsize=(6,9))\n",
        "\n",
        "plt.subplots_adjust(wspace=0.4)\n",
        "\n",
        "\n",
        "\n",
        "# Plotting x\n",
        "ax.plot(x[0,:], x[1,:], color='b')\n",
        "\n",
        "ax.quiver([0,0], [0,0], x_sample1[0], x_sample1[1], color=['b'], width=0.012, angles='xy', scale_units='xy', scale=1)\n",
        "ax.quiver([0,0], [0,0], x_sample2[0], x_sample2[1], color=['black'], width=0.012, angles='xy', scale_units='xy', scale=1)\n",
        "ax.set_aspect('equal')\n",
        "ax.set_xlabel('x', fontsize=14)\n",
        "ax.set_ylabel('y', fontsize=14)\n",
        "ax.set_xlim([-4,4])\n",
        "ax.set_ylim([-4,4])\n",
        "ax.grid(True)\n",
        "ax.set_axisbelow(True)\n",
        "ax.set_title(\"Original vectors\")\n",
        "ax.axhline(y=0, color='k')\n",
        "ax.axvline(x=0, color='k')\n",
        "\n",
        "ax.plot(t[0, :], t[1, :], color='r')\n",
        "ax.quiver([0,0],[0,0], t_sample1[0], t_sample1[1], color=['g'], width=0.012, angles='xy', scale_units='xy', scale=1)\n",
        "ax.quiver([0,0], [0,0], t_sample2[0], t_sample2[1], color=['gray'], width=0.012, angles='xy', scale_units='xy', scale=1)"
      ]
    },
    {
      "cell_type": "markdown",
      "metadata": {
        "id": "sJ-rFx_ME1iu"
      },
      "source": [
        "### eigenvalues and eigenvectors"
      ]
    },
    {
      "cell_type": "code",
      "execution_count": 23,
      "metadata": {
        "colab": {
          "base_uri": "https://localhost:8080/"
        },
        "id": "_l9aw_dFEvg2",
        "outputId": "5ab83121-cacd-45bb-e9be-9638c4f28c27"
      },
      "outputs": [
        {
          "name": "stdout",
          "output_type": "stream",
          "text": [
            "lam= [-1. -2.]\n",
            "u= [[ 1.     -0.7071]\n",
            " [ 0.      0.7071]]\n"
          ]
        }
      ],
      "source": [
        "B = np.array([[-1, 1],[0, -2]])\n",
        "lam, u = np.linalg.eig(B)\n",
        "print(\"lam=\", np.round(lam, 4))\n",
        "print(\"u=\", np.round(u, 4))"
      ]
    },
    {
      "cell_type": "markdown",
      "metadata": {
        "id": "MvbbT6NgFCDO"
      },
      "source": [
        "column `u[:,i]` is the eigenvector corresponding to the eigenvalue `lam[i]`"
      ]
    },
    {
      "cell_type": "code",
      "execution_count": 24,
      "metadata": {
        "id": "5cKRiODiFSJe"
      },
      "outputs": [],
      "source": [
        "t2 = B @ x"
      ]
    },
    {
      "cell_type": "code",
      "execution_count": 30,
      "metadata": {
        "id": "8jRnE-iMHJpX"
      },
      "outputs": [],
      "source": [
        "t2_sample1 = B @ u[:,0]\n",
        "t2_sample2 = B @ u[:,1]"
      ]
    },
    {
      "cell_type": "code",
      "execution_count": 48,
      "metadata": {
        "colab": {
          "base_uri": "https://localhost:8080/",
          "height": 434
        },
        "id": "UHQ_Yj8qFSMd",
        "outputId": "3496043d-8d71-443f-d261-63ed09dd9146"
      },
      "outputs": [
        {
          "data": {
            "text/plain": [
              "Text(-3.8, 0.1, 'transformed $\\\\mathbf{u_1}$')"
            ]
          },
          "execution_count": 48,
          "metadata": {},
          "output_type": "execute_result"
        },
        {
          "data": {
            "image/png": "[encoded data removed]",
            "text/plain": [
              "<Figure size 432x648 with 1 Axes>"
            ]
          },
          "metadata": {
            "needs_background": "light"
          },
          "output_type": "display_data"
        }
      ],
      "source": [
        "# draw circle\n",
        "fig, ax= plt.subplots(figsize=(6,9))\n",
        "\n",
        "plt.subplots_adjust(wspace=0.4)\n",
        "\n",
        "\n",
        "\n",
        "# Plotting x\n",
        "ax.plot(x[0,:], x[1,:], color='b')\n",
        "\n",
        "ax.quiver([0,0], [0,0], u[0][0], u[1][0], color=['b'], width=0.012, angles='xy', scale_units='xy', scale=1)\n",
        "ax.quiver([0,0], [0,0], u[0][1], u[1][1], color=['black'], width=0.012, angles='xy', scale_units='xy', scale=1)\n",
        "ax.set_aspect('equal')\n",
        "ax.set_xlabel('x', fontsize=14)\n",
        "ax.set_ylabel('y', fontsize=14)\n",
        "ax.set_xlim([-4,4])\n",
        "ax.set_ylim([-4,4])\n",
        "ax.grid(True)\n",
        "ax.set_axisbelow(True)\n",
        "ax.set_title(\"Original vectors\")\n",
        "ax.axhline(y=0, color='k')\n",
        "ax.axvline(x=0, color='k')\n",
        "\n",
        "ax.plot(t2[0, :], t2[1, :], color='r')\n",
        "ax.quiver([0,0],[0,0], t2_sample1[0], t2_sample1[1], color=['g'], width=0.012, angles='xy', scale_units='xy', scale=1)\n",
        "ax.quiver([0,0], [0,0], t2_sample2[0], t2_sample2[1], color=['gray'], width=0.012, angles='xy', scale_units='xy', scale=1)\n",
        "\n",
        "ax.text(1, 0.1, \"$\\mathbf{u_1}$\", fontsize=14, color='b')\n",
        "ax.text(-1.2, 0.7, \"$\\mathbf{u_2}$\", fontsize=14)\n",
        "ax.text(1.2, -1.8, \"transformed $\\mathbf{u_2}$\", fontsize=14, color='gray')\n",
        "ax.text(-3.8, 0.1, \"transformed $\\mathbf{u_1}$\", fontsize=14, color='green')"
      ]
    },
    {
      "cell_type": "markdown",
      "metadata": {
        "id": "q1iF0kKuJiu3"
      },
      "source": [
        "As we can see when we apply the matrix `B` on its eigenvectors, the direction of the transformed vector is in the direction of eigenvector "
      ]
    },
    {
      "cell_type": "markdown",
      "metadata": {
        "id": "K_ceBE02KMid"
      },
      "source": [
        "### another example"
      ]
    },
    {
      "cell_type": "code",
      "execution_count": 49,
      "metadata": {
        "colab": {
          "base_uri": "https://localhost:8080/"
        },
        "id": "9taDqlHaFSQ0",
        "outputId": "164e2ce0-bf8f-4dfa-b3d8-12dc2d27968f"
      },
      "outputs": [
        {
          "name": "stdout",
          "output_type": "stream",
          "text": [
            "lam= [3. 2.]\n",
            "u= [[ 1.     -0.8944]\n",
            " [ 0.      0.4472]]\n"
          ]
        }
      ],
      "source": [
        "A = np.array([[3, 2],\n",
        "              [0, 2]]) \n",
        "lam, u = np.linalg.eig(A)\n",
        "print(\"lam=\", np.round(lam, 4))\n",
        "print(\"u=\", np.round(u, 4))"
      ]
    },
    {
      "cell_type": "code",
      "execution_count": 55,
      "metadata": {
        "id": "xNkdAvyfLcjV"
      },
      "outputs": [],
      "source": [
        "t =A @ x"
      ]
    },
    {
      "cell_type": "code",
      "execution_count": 56,
      "metadata": {
        "id": "Q__7qVJoLUtW"
      },
      "outputs": [],
      "source": [
        "t2_sample1 = A @ u[:,0]\n",
        "t2_sample2 = A @ u[:,1]"
      ]
    },
    {
      "cell_type": "code",
      "execution_count": 63,
      "metadata": {
        "colab": {
          "base_uri": "https://localhost:8080/",
          "height": 434
        },
        "id": "66jrA6-wKjW2",
        "outputId": "03c4a7a7-dc78-4068-8858-2ab3e379a4b3"
      },
      "outputs": [
        {
          "data": {
            "text/plain": [
              "Text(-2.4, 1, '$\\\\mathbf{Au_2}$')"
            ]
          },
          "execution_count": 63,
          "metadata": {},
          "output_type": "execute_result"
        },
        {
          "data": {
            "image/png": "[encoded data removed]",
            "text/plain": [
              "<Figure size 432x648 with 1 Axes>"
            ]
          },
          "metadata": {
            "needs_background": "light"
          },
          "output_type": "display_data"
        }
      ],
      "source": [
        "t = A @ x   # Vectors in t are the transformed vectors of x\n",
        "\n",
        "fig, ax1= plt.subplots(figsize=(6,9))\n",
        "\n",
        "plt.subplots_adjust(wspace=0.4)\n",
        "\n",
        "# Plotting x\n",
        "ax1.plot(x[0,:], x[1,:], color='b')\n",
        "ax1.quiver([0,0],[0,0], u[0,:], u[1,:], color=['b'], width=0.012, angles='xy', scale_units='xy', scale=1)\n",
        "ax1.set_xlabel('x', fontsize=14)\n",
        "ax1.set_ylabel('y', fontsize=14)\n",
        "ax1.set_xlim([-4,4])\n",
        "ax1.set_ylim([-4,4])\n",
        "ax1.set_aspect('equal')\n",
        "ax1.grid(True)\n",
        "ax1.set_title(\"Original vectors\")\n",
        "ax1.axhline(y=0, color='k')\n",
        "ax1.axvline(x=0, color='k')\n",
        "ax1.text(1, 0.3, \"$\\mathbf{u_1}$\", fontsize=14)\n",
        "ax1.text(-1.6, 0.5, \"$\\mathbf{u_2}$\", fontsize=14)\n",
        "ax1.text(0.3, 1.1, \"$\\mathbf{x}$\", color='b', fontsize=14)\n",
        "\n",
        "ax1.plot(t[0, :], t[1, :], color='r')\n",
        "ax1.text(2, 2.3, \"$\\mathbf{Ax}$\", color='r', fontsize=14)\n",
        "ax1.quiver([0,0],[0,0], t2_sample1[0], t2_sample1[1], color=['gray'], width=0.012, angles='xy', scale_units='xy', scale=1)\n",
        "ax1.quiver([0,0], [0,0], t2_sample2[0], t2_sample2[1], color=['gray'], width=0.012, angles='xy', scale_units='xy', scale=1)\n",
        "ax1.text(2, 0.3, \"$\\mathbf{Au_1}$\", fontsize=14, color='gray')\n",
        "ax1.text(-2.4, 1, \"$\\mathbf{Au_2}$\", fontsize=14, color='gray')"
      ]
    },
    {
      "cell_type": "markdown",
      "metadata": {
        "id": "5qQGiKOBMo6V"
      },
      "source": [
        "There is nothing special about these eigenvectors in above plot. let's try a a symmetric matrix:"
      ]
    },
    {
      "cell_type": "code",
      "execution_count": 71,
      "metadata": {
        "colab": {
          "base_uri": "https://localhost:8080/"
        },
        "id": "MBEEXYlBMTFd",
        "outputId": "a76af470-3e61-457a-884b-406910b25d5c"
      },
      "outputs": [
        {
          "name": "stdout",
          "output_type": "stream",
          "text": [
            "lam= [3.618 1.382]\n",
            "u= [[ 0.8507 -0.5257]\n",
            " [ 0.5257  0.8507]]\n"
          ]
        }
      ],
      "source": [
        "D = np.array([[3, 1],\n",
        "              [1, 2]]) \n",
        "lam, u = np.linalg.eig(D)\n",
        "print(\"lam=\", np.round(lam, 4))\n",
        "print(\"u=\", np.round(u, 4))"
      ]
    },
    {
      "cell_type": "code",
      "execution_count": 72,
      "metadata": {
        "id": "np73P1fGNCaM"
      },
      "outputs": [],
      "source": [
        "t =D @ x"
      ]
    },
    {
      "cell_type": "code",
      "execution_count": 73,
      "metadata": {
        "id": "Pw_iIs-dNCdk"
      },
      "outputs": [],
      "source": [
        "t2_sample1 = D @ u[:,0]\n",
        "t2_sample2 = D @ u[:,1]"
      ]
    },
    {
      "cell_type": "code",
      "execution_count": 80,
      "metadata": {
        "colab": {
          "base_uri": "https://localhost:8080/",
          "height": 434
        },
        "id": "MfJnRMJWNChv",
        "outputId": "b7cd6596-85fd-4175-eb1b-46e8edb3862c"
      },
      "outputs": [
        {
          "data": {
            "text/plain": [
              "Text(-1.6, 1.4, '$\\\\mathbf{Du_2}$')"
            ]
          },
          "execution_count": 80,
          "metadata": {},
          "output_type": "execute_result"
        },
        {
          "data": {
            "image/png": "[encoded data removed]",
            "text/plain": [
              "<Figure size 432x648 with 1 Axes>"
            ]
          },
          "metadata": {
            "needs_background": "light"
          },
          "output_type": "display_data"
        }
      ],
      "source": [
        "fig, ax1= plt.subplots(figsize=(6,9))\n",
        "\n",
        "plt.subplots_adjust(wspace=0.4)\n",
        "\n",
        "# Plotting x\n",
        "ax1.plot(x[0,:], x[1,:], color='b')\n",
        "ax1.quiver([0,0],[0,0], u[0,:], u[1,:], color=['b'], width=0.012, angles='xy', scale_units='xy', scale=1)\n",
        "ax1.set_xlabel('x', fontsize=14)\n",
        "ax1.set_ylabel('y', fontsize=14)\n",
        "ax1.set_xlim([-4,4])\n",
        "ax1.set_ylim([-4,4])\n",
        "ax1.set_aspect('equal')\n",
        "ax1.grid(True)\n",
        "ax1.set_title(\"Original vectors\")\n",
        "ax1.axhline(y=0, color='k')\n",
        "ax1.axvline(x=0, color='k')\n",
        "ax1.text(1, 0.3, \"$\\mathbf{u_1}$\", fontsize=14)\n",
        "ax1.text(-1.6, 0.5, \"$\\mathbf{u_2}$\", fontsize=14)\n",
        "ax1.text(0.3, 1.1, \"$\\mathbf{x}$\", color='b', fontsize=14)\n",
        "\n",
        "ax1.plot(t[0, :], t[1, :], color='r')\n",
        "ax1.text(2, 2.3, \"$\\mathbf{Dx}$\", color='r', fontsize=14)\n",
        "ax1.quiver([0,0],[0,0], t2_sample1[0], t2_sample1[1], color=['gray'], width=0.012, angles='xy', scale_units='xy', scale=1)\n",
        "ax1.quiver([0,0], [0,0], t2_sample2[0], t2_sample2[1], color=['gray'], width=0.012, angles='xy', scale_units='xy', scale=1)\n",
        "ax1.text(3, 2, \"$\\mathbf{Du_1}$\", fontsize=14, color='gray')\n",
        "ax1.text(-1.6, 1.4, \"$\\mathbf{Du_2}$\", fontsize=14, color='gray')"
      ]
    },
    {
      "cell_type": "markdown",
      "metadata": {
        "id": "E7ZY_btqOqVs"
      },
      "source": [
        "This time the eigenvectors have an interesting property. We see that the eigenvectors are along the major and minor axes of the ellipse (principal axes). An ellipse can be thought of as a circle stretched or shrunk along its principal axes as shown in above plot, and matrix `D` transforms the initial circle by stretching it along u1 and u2, the eigenvectors of `D`.\n",
        "\n",
        "But why the eigenvectors of `D` did not have this property? That is because `D` is a symmetric matrix.\n",
        "\n",
        "**A symmetric matrix transforms a vector by stretching or shrinking it along its eigenvectors**\n",
        "\n",
        "So when you have more stretching in the direction of an eigenvector, the eigenvalue corresponding to that eigenvector will be greater. In fact, if the absolute value of an eigenvalue is greater than 1, the circle x stretches along it, and if the absolute value is less than 1, it shrinks along it\n",
        "\n"
      ]
    },
    {
      "cell_type": "markdown",
      "metadata": {
        "id": "DZaUVnNCjIWr"
      },
      "source": [
        "### basis\n",
        "we have two vectors v_1 and v_2 as a basis for a vector space. we'd like to find the coordinate of a vector in new basis"
      ]
    },
    {
      "cell_type": "code",
      "execution_count": 82,
      "metadata": {
        "colab": {
          "base_uri": "https://localhost:8080/"
        },
        "id": "Xscu4OcrOpvN",
        "outputId": "189d1903-5f94-48d4-9140-707f9c646b86"
      },
      "outputs": [
        {
          "name": "stdout",
          "output_type": "stream",
          "text": [
            "x_B= [[4.  ]\n",
            " [2.83]]\n"
          ]
        }
      ],
      "source": [
        "# The Basis\n",
        "v_1 = np.array([[1],[0]])\n",
        "v_2 = np.array([[-1/math.sqrt(2)],[1/math.sqrt(2)]])\n",
        "\n",
        "# Change of coordinate matrix\n",
        "p =np.concatenate([v_1, v_2], axis=1)\n",
        "p_inv =  np.linalg.inv(p) \n",
        "\n",
        "# Coordinate of x in R^2\n",
        "x=np.array([[2], [2]])\n",
        "\n",
        "# New coordinate relative to basis B\n",
        "x_B = p_inv @ x\n",
        "\n",
        "print(\"x_B=\", np.round(x_B, 2))"
      ]
    },
    {
      "cell_type": "markdown",
      "metadata": {
        "id": "Ar44_JMGj7Xy"
      },
      "source": [
        "### eigendecomposition of a symmetric matrix"
      ]
    },
    {
      "cell_type": "code",
      "execution_count": 83,
      "metadata": {
        "colab": {
          "base_uri": "https://localhost:8080/"
        },
        "id": "85cAcY5Cj6ua",
        "outputId": "7d03be67-00cd-40c5-8789-e298547bc3c9"
      },
      "outputs": [
        {
          "name": "stdout",
          "output_type": "stream",
          "text": [
            "A_1= [[2.618 1.618]\n",
            " [1.618 1.   ]]\n",
            "A_2= [[ 0.382 -0.618]\n",
            " [-0.618  1.   ]]\n"
          ]
        }
      ],
      "source": [
        "A = np.array([[3, 1],\n",
        "              [1, 2]]) \n",
        "\n",
        "lam, u = np.linalg.eig(A)\n",
        "u1= u[:,0].reshape(2,1)\n",
        "lam1 = lam[0]\n",
        "# A_1 = lambda_1 * u1 * u1^T\n",
        "A_1 = lam1 * (u1 @ u1.T)  # projection matrix\n",
        "u2= u[:,1].reshape(2,1)\n",
        "lam2 = lam[1]\n",
        "# A_2 = lambda_2 * u2 * u2^T\n",
        "A_2 = lam2 * (u2 @ u2.T)  # projection matrix\n",
        "print(\"A_1=\", np.round(A_1, 4))\n",
        "print(\"A_2=\", np.round(A_2, 4))"
      ]
    },
    {
      "cell_type": "markdown",
      "metadata": {
        "id": "dnKAQmsEksNq"
      },
      "source": [
        "The projection matrix(A_1 and A_2) has some interesting properties. First, we can calculate its eigenvalues and eigenvectors:"
      ]
    },
    {
      "cell_type": "code",
      "execution_count": 84,
      "metadata": {
        "colab": {
          "base_uri": "https://localhost:8080/"
        },
        "id": "DCKgsYtrkj3a",
        "outputId": "1156471c-3f4c-46a9-a288-de8a9ea2ea01"
      },
      "outputs": [
        {
          "name": "stdout",
          "output_type": "stream",
          "text": [
            "lam= [ 3.618 -0.   ]\n",
            "u= [[ 0.8507 -0.5257]\n",
            " [ 0.5257  0.8507]]\n"
          ]
        }
      ],
      "source": [
        "lam_A_1, u_A_1 = np.linalg.eig(A_1)\n",
        "print(\"lam=\", np.round(lam_A_1, 4))\n",
        "print(\"u=\", np.round(u_A_1, 4))"
      ]
    },
    {
      "cell_type": "markdown",
      "metadata": {
        "id": "ebEfqeW2lDKa"
      },
      "source": [
        "transformation effect of projection matrix on circle."
      ]
    },
    {
      "cell_type": "code",
      "execution_count": 91,
      "metadata": {
        "colab": {
          "base_uri": "https://localhost:8080/",
          "height": 657
        },
        "id": "s-F-0I4zk4Fi",
        "outputId": "8807f302-3f49-47e6-a8e1-96d904d77cf7"
      },
      "outputs": [
        {
          "data": {
            "text/plain": [
              "Text(1.8, 1.8, '$\\\\lambda_1\\\\mathbf{u_1}\\\\mathbf{u_1}^T\\\\mathbf{x}$')"
            ]
          },
          "execution_count": 91,
          "metadata": {},
          "output_type": "execute_result"
        },
        {
          "data": {
            "image/png": "[encoded data removed]",
            "text/plain": [
              "<Figure size 720x1080 with 1 Axes>"
            ]
          },
          "metadata": {
            "needs_background": "light"
          },
          "output_type": "display_data"
        }
      ],
      "source": [
        "# Creating the vectors for a circle and storing them in x\n",
        "xi1 = np.linspace(-1.0, 1.0, 100)\n",
        "xi2 = np.linspace(1.0, -1.0, 100)\n",
        "yi1 = np.sqrt(1 - xi1**2)\n",
        "yi2 = -np.sqrt(1 - xi2**2)\n",
        "\n",
        "xi = np.concatenate((xi1, xi2),axis=0)\n",
        "yi = np.concatenate((yi1, yi2),axis=0)\n",
        "x = np.vstack((xi, yi))\n",
        "\n",
        "t = A_1 @ x  # Vectors in t are the transformed vectors of x\n",
        "\n",
        "# getting the transformed sample of x from t\n",
        "t_sample = t[:, 100]\n",
        "\n",
        "fig, ax1 = plt.subplots(figsize=(10,15))\n",
        "\n",
        "plt.subplots_adjust(wspace=0.4)\n",
        "\n",
        "# Plotting s\n",
        "ax1.plot(x[0,:], x[1,:], color='b')\n",
        "ax1.set_xlabel('x', fontsize=14)\n",
        "ax1.set_ylabel('y', fontsize=14)\n",
        "ax1.set_xlim([-4,4])\n",
        "ax1.set_ylim([-4,4])\n",
        "ax1.set_aspect('equal')\n",
        "ax1.grid(True)\n",
        "ax1.set_title(\"Original vectors\")\n",
        "ax1.axhline(y=0, color='k')\n",
        "ax1.axvline(x=0, color='k')\n",
        "ax1.text(0.8, 0.8, \"$\\mathbf{x}$\", fontsize=14)\n",
        "\n",
        "ax1.plot(t[0, :], t[1, :], color='r')\n",
        "ax1.quiver([0,0],[0,0], u[0,:], u[1,:], color=['b'], width=0.012, angles='xy', scale_units='xy', scale=1)\n",
        "ax1.text(0.4, 0.6, \"$\\mathbf{u_1}$\", fontsize=14)\n",
        "ax1.text(-1, 1, \"$\\mathbf{u_2}$\", fontsize=14)\n",
        "ax1.text(1.8, 1.8, \"$\\lambda_1\\mathbf{u_1}\\mathbf{u_1}^T\\mathbf{x}$\", fontsize=14)"
      ]
    },
    {
      "cell_type": "code",
      "execution_count": null,
      "metadata": {
        "id": "dLLrRRafmo0r"
      },
      "outputs": [],
      "source": []
    },
    {
      "cell_type": "code",
      "execution_count": null,
      "metadata": {
        "id": "yJGv-8N6mo9S"
      },
      "outputs": [],
      "source": []
    },
    {
      "cell_type": "code",
      "execution_count": null,
      "metadata": {
        "id": "4nTxN2q7mpA5"
      },
      "outputs": [],
      "source": []
    }
  ],
  "metadata": {
    "colab": {
      "name": "SVD.ipynb",
      "provenance": []
    },
    "kernelspec": {
      "display_name": "Python 3",
      "name": "python3"
    },
    "language_info": {
      "name": "python"
    }
  },
  "nbformat": 4,
  "nbformat_minor": 0
}
